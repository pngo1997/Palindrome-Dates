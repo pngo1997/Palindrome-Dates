{
 "cells": [
  {
   "cell_type": "markdown",
   "id": "cc81bcec-4578-42dd-a2af-ec096ecfa8bf",
   "metadata": {},
   "source": [
    "#### Assumption: "
   ]
  },
  {
   "cell_type": "markdown",
   "id": "61cf33b8-903f-40d4-ad33-00b27574244f",
   "metadata": {},
   "source": [
    "This is my approach. I drafted an example and successfully code it. \\\n",
    "Year: 2032 \\\n",
    "Reverse_year: 2302 \\\n",
    "Date = reverse_year [:2] = 23 \\\n",
    "Look if the day is less than 29."
   ]
  },
  {
   "cell_type": "markdown",
   "id": "70c31d5e-2564-4414-9996-a6da91e43666",
   "metadata": {},
   "source": [
    "#### How did you iterate through the different dates?"
   ]
  },
  {
   "cell_type": "markdown",
   "id": "d2073f98-13bf-4061-8348-22a04be833e0",
   "metadata": {},
   "source": [
    "I generate a list of reversed year 'reverse_year_list', then slice the first two characters and store them in a different list 'date_list'. \\\n",
    "Then I create def checkDate(), to check if any of these 'sliced characracters' in date_list falls between 0 and 29, which are dates in the month of February."
   ]
  },
  {
   "cell_type": "markdown",
   "id": "7af5a7c8-b96e-4668-adba-bbc70e7bcff8",
   "metadata": {},
   "source": [
    "#### How did you test if a date was a palindrome date?"
   ]
  },
  {
   "cell_type": "markdown",
   "id": "b0ba76ef-9b82-4c55-986e-c403a1f4272d",
   "metadata": {},
   "source": [
    "Follow by 1st question: If they do, I keep them. \\\n",
    "Then check if they are equal to the first-two reversed characters of the year / reverse_year [:2]. "
   ]
  },
  {
   "cell_type": "markdown",
   "id": "7bff55b1-14a7-462b-a03c-3491f6e0e116",
   "metadata": {},
   "source": [
    "#### Where you able to ignore entire months or even years without evaluatin every date?"
   ]
  },
  {
   "cell_type": "markdown",
   "id": "8ec0f4ed-d558-4821-9272-87c65b08a26b",
   "metadata": {},
   "source": [
    "Yes, since we're onling looking at the 21st century. Year are from 2001 to 2100. Format DD/MM/YYY.\n",
    "\n",
    "    *Year 2100 does not have a palindrome date since reverse of '2100' is '0012' and there is no '00' date.\n",
    "    *Now, we're only looking at Year 2001 to 2099. The first 2 digits of year '20' reversed is the 2 digits of month '02'. Thus, we ONLY look at February.\n",
    "\n",
    "Since we treat leap years as regular years. February will have 28 days. \\\n",
    "Which also mean leap year palindrome date 29/02/2092 will NOT be counted. "
   ]
  },
  {
   "cell_type": "code",
   "execution_count": 282,
   "id": "02f698f3-7627-4135-b30f-a2ca69918edb",
   "metadata": {},
   "outputs": [],
   "source": [
    "def main():\n",
    "    '''Main function connects other defs.'''\n",
    "    \n",
    "    year_list, date_list = dateYear()\n",
    "    printPDates(year_list, date_list)"
   ]
  },
  {
   "cell_type": "code",
   "execution_count": 285,
   "id": "11d040b3-2158-4e42-b82a-87fadb9ef862",
   "metadata": {},
   "outputs": [],
   "source": [
    "main()"
   ]
  },
  {
   "cell_type": "code",
   "execution_count": 284,
   "id": "834e6d0a-4e50-458e-ab16-1271681f1216",
   "metadata": {},
   "outputs": [],
   "source": [
    "def dateYear():\n",
    "    '''Return two lists: a list of reversed year numbers (4 digits), and a list of date (2 digits). '''\n",
    "    \n",
    "    reverse_year_list = []\n",
    "    date_list = []\n",
    "    #Create two lists. Purpose mention in doc string.\n",
    "    \n",
    "    for year in range (2001, 2100):\n",
    "    #Iterate through each year in 21st century. \n",
    "    #Not include 2100 since it doesn't have palindrome date. \n",
    "    \n",
    "        str_year = str(year)\n",
    "        #Convert from integer to string. \n",
    "        \n",
    "        reverse_year = str_year[::-1]\n",
    "        #Assign reverse_year variable to store reversed string 'year'\n",
    "        \n",
    "        reverse_year_list.append(reverse_year)\n",
    "        #Append to reverse_year_list\n",
    "        \n",
    "        date = reverse_year [:2]\n",
    "        #Assign date variable to store the first two character of reversed year.\n",
    "        \n",
    "        date_list.append(date)\n",
    "        #Append to date_list\n",
    "        \n",
    "    return reverse_year_list, date_list\n",
    "    #Return these two lists. "
   ]
  },
  {
   "cell_type": "code",
   "execution_count": 281,
   "id": "3a57ee35-d3b1-4ad1-8e1f-6245e8482bb9",
   "metadata": {},
   "outputs": [],
   "source": [
    "def printPDates(year_list, date_list):\n",
    "    '''Test and write palindrome dates to a file.'''\n",
    "    #Given a list of reversed year numbers (4 digits), and a list of date (2 digits). \n",
    "    \n",
    "    outfile = open('HW0601.txt', 'w')\n",
    "    #Create/Open a text file named 'HW0601' to write only.\n",
    "    outfile.write('Palindrome Dates of 21st Century: \\n')\n",
    "    #Give headline.\n",
    "    outfile.write('DD / MM / YYYY \\n') \n",
    "    #Give format of the date.\n",
    "    \n",
    "    for reverse_year in year_list:\n",
    "    #Iterate through each year in the year_list.\n",
    "        for date in date_list:\n",
    "        #Iterate through each date in the date_list.\n",
    "            \n",
    "            if checkDate(date):\n",
    "            #Check if the date is in February using def checkDate()\n",
    "                if date == reverse_year [:2]:\n",
    "                #Check if the date is equal to the first-two reversed characters of the year.\n",
    "                    \n",
    "                    outfile.write(f'''{date} / 02 / {reverse_year[::-1]} \\n''')\n",
    "                    #If so, write to the file with above format. \n",
    "                    #'02' hard code as answered in question 3\n",
    "                    #Reverse 'reverse_year' back to get full format. \n",
    "            \n",
    "            else: pass\n",
    "            #If the date if not in February, pass and continue the loop\n",
    "            \n",
    "    outfile.close()\n",
    "    #Close the file at the end."
   ]
  },
  {
   "cell_type": "code",
   "execution_count": 271,
   "id": "0df0a6d4-b7ec-4e20-b6a1-83a2804fff08",
   "metadata": {},
   "outputs": [],
   "source": [
    "def checkDate(num):\n",
    "    '''Check if the date is in February'''\n",
    "    \n",
    "    num = int(num)\n",
    "    #Convert to integer since 'num' is a string in date_list. \n",
    "    \n",
    "    if 0 < num and num < 29:\n",
    "    #Check if the number between 1 and 28\n",
    "        return True\n",
    "        #If so, return True \n",
    "    \n",
    "    else: \n",
    "        return False    \n",
    "        #If not, return False"
   ]
  }
 ],
 "metadata": {
  "kernelspec": {
   "display_name": "Python 3 (ipykernel)",
   "language": "python",
   "name": "python3"
  },
  "language_info": {
   "codemirror_mode": {
    "name": "ipython",
    "version": 3
   },
   "file_extension": ".py",
   "mimetype": "text/x-python",
   "name": "python",
   "nbconvert_exporter": "python",
   "pygments_lexer": "ipython3",
   "version": "3.9.13"
  }
 },
 "nbformat": 4,
 "nbformat_minor": 5
}
